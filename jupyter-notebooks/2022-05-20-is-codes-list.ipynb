{
 "cells": [
  {
   "cell_type": "markdown",
   "id": "329228a3",
   "metadata": {},
   "source": [
    "---\n",
    "layout: post\n",
    "title: \"IS-Codes What is for what??\"\n",
    "author: \"Vijay Kumar Polimeru\"\n",
    "tags: \n",
    "    - Master Series\n",
    "permalink: /is-codes-list/\n",
    "comments: true\n",
    "---"
   ]
  },
  {
   "cell_type": "markdown",
   "id": "75ec3237",
   "metadata": {},
   "source": [
    "| S. No | IS-Code   |\n",
    "|------|------|\n",
    "|   a  | table|"
   ]
  },
  {
   "cell_type": "code",
   "execution_count": null,
   "id": "f5fd9404",
   "metadata": {},
   "outputs": [],
   "source": []
  }
 ],
 "metadata": {
  "kernelspec": {
   "display_name": "Python 3 (ipykernel)",
   "language": "python",
   "name": "python3"
  },
  "language_info": {
   "codemirror_mode": {
    "name": "ipython",
    "version": 3
   },
   "file_extension": ".py",
   "mimetype": "text/x-python",
   "name": "python",
   "nbconvert_exporter": "python",
   "pygments_lexer": "ipython3",
   "version": "3.9.12"
  }
 },
 "nbformat": 4,
 "nbformat_minor": 5
}
